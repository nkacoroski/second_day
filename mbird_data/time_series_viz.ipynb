{
 "cells": [
  {
   "cell_type": "markdown",
   "metadata": {},
   "source": [
    "# An Introduction to Time Series Visualizations with Python Using Bird Species Data from Marymoor Park\n",
    "## (Or as I like to think of it - what bird when?)"
   ]
  },
  {
   "cell_type": "markdown",
   "metadata": {},
   "source": [
    "Why time series visualizations? Why birds? \n",
    "To explain the former, I need to start with the latter. I like birds. I mean, I REALLY like birds. I also happen to have some cool data about bird species for one of my favorite places on Earth (Marymoor Park, WA), thanks to a dedicated group of birdwatchers led by Michael Hobbs. Since 1983, Friends of Marymoor Park has hosted a weekly bird walk in the park documenting the presence of any bird species observed. Hobbs has also drawn from online sources such as Tweeters (an email listserv for birding in the Pacific Northwest) and eBird (a database of bird sightings and the world's largest citizen science project) to build as complete a picture as possible about bird species at Marymoor. In short, I have a set of time series data that I'm really excited to explore. And now that I've been in the Seattle Flatiron Data Science program for several weeks, I have some newly acquired data scientist superpowers to grow! (How serendipitous...) I also have a program requirement to blog about a data visualization technique. So to *figuratively* kill two birds with one stone (Yes, I can joke about it. Where did that phrase come from anyway?), I decided to blog about time series visualizations using my super-cool, totally awesome, AMAZING data on bird species! (How convenient...)"
   ]
  },
  {
   "cell_type": "markdown",
   "metadata": {},
   "source": [
    "Let's talk about time data - any information including a variable of time (seconds, minutes, hours, days, years, . Time series are ubiquitous. They tell what is happening when, and, using that information, forecast what will happen then, i.e., predict the future! And frankly, humans can use all the help we can get. I've started to read \"The Signal and the Noise: Why So Many Predictions Fail - But Some Don't\" by Nate Silver. One of my biggest takeaways so far is that people are pretty bad at making accurate predictions. And from just a personal foray into forecasting, I need to better understand time series predictions before talking about them, so for this post I'd like to focus on the \"what is happening when\" and how to picture it. The goal of this post is to share how one can understand the narrative of a time series by using visualizations effectively. "
   ]
  },
  {
   "cell_type": "markdown",
   "metadata": {},
   "source": [
    "There are many ways to visualize time series. They include:\n",
    "* polar area diagrams\n",
    "* line graphs \n",
    "* heat maps\n",
    "* stream graphs \n",
    "* Gantt charts \n",
    "* bar charts\n",
    "* stacked area charts<br>\n",
    "After that - or even before, - it's semantics. Each type of visualization has its own perks and drawbacks."
   ]
  },
  {
   "cell_type": "markdown",
   "metadata": {},
   "source": [
    "The narrative of a time series may include trends, seasonality, cyclicity, and unique events. A trend is any long-term change, such as the winter range expansion of Anna's hummingbirds of over 700 kilometers in the past two decades. Seasonality is variation following the change of seasons, like the annual migration of tree swallows north in the springtime and south in the winter. Cyclicity refers to data rising and falling within a fixed period, such as the irruptions of snowy owls every 4-5 years - when snowy owls coming flooding down from the north. And unique events are significant peaks or valleys outside of any pattern, like the mass mortality events in the north pacific marine environment documented by the Coastal Observation and Seabird Survey Team (COASST). To isolate trends, seasonality, cyclicity, and unique events from noise, I find line graphs useful."
   ]
  },
  {
   "cell_type": "markdown",
   "metadata": {},
   "source": [
    "So let's get started!<br>\n",
    "First, I import all the libraries that I will need."
   ]
  },
  {
   "cell_type": "code",
   "execution_count": 1,
   "metadata": {},
   "outputs": [],
   "source": [
    "import pandas as pd\n",
    "import matplotlib as pyplot\n",
    "import seaborn as sns"
   ]
  },
  {
   "cell_type": "markdown",
   "metadata": {},
   "source": [
    "Then I take an initial look at my data. "
   ]
  },
  {
   "cell_type": "code",
   "execution_count": 2,
   "metadata": {},
   "outputs": [],
   "source": [
    "df = pd.read_csv(\"mbird_data.csv\")"
   ]
  },
  {
   "cell_type": "code",
   "execution_count": 3,
   "metadata": {},
   "outputs": [
    {
     "data": {
      "text/html": [
       "<div>\n",
       "<style scoped>\n",
       "    .dataframe tbody tr th:only-of-type {\n",
       "        vertical-align: middle;\n",
       "    }\n",
       "\n",
       "    .dataframe tbody tr th {\n",
       "        vertical-align: top;\n",
       "    }\n",
       "\n",
       "    .dataframe thead th {\n",
       "        text-align: right;\n",
       "    }\n",
       "</style>\n",
       "<table border=\"1\" class=\"dataframe\">\n",
       "  <thead>\n",
       "    <tr style=\"text-align: right;\">\n",
       "      <th></th>\n",
       "      <th>0</th>\n",
       "      <th>1</th>\n",
       "      <th>2</th>\n",
       "      <th>3</th>\n",
       "      <th>4</th>\n",
       "    </tr>\n",
       "  </thead>\n",
       "  <tbody>\n",
       "    <tr>\n",
       "      <th>Sort Order</th>\n",
       "      <td>1307</td>\n",
       "      <td>23</td>\n",
       "      <td>41</td>\n",
       "      <td>48</td>\n",
       "      <td>53</td>\n",
       "    </tr>\n",
       "    <tr>\n",
       "      <th>Species ID</th>\n",
       "      <td>LEFL</td>\n",
       "      <td>CANG</td>\n",
       "      <td>GADW</td>\n",
       "      <td>MALL</td>\n",
       "      <td>GWTE</td>\n",
       "    </tr>\n",
       "    <tr>\n",
       "      <th>Common Name</th>\n",
       "      <td>Least Flycatcher</td>\n",
       "      <td>Canada Goose</td>\n",
       "      <td>Gadwall</td>\n",
       "      <td>Mallard</td>\n",
       "      <td>Green-winged Teal</td>\n",
       "    </tr>\n",
       "    <tr>\n",
       "      <th>Scientific Name</th>\n",
       "      <td>Empidonax minimus</td>\n",
       "      <td>Branta canadensis</td>\n",
       "      <td>Mareca strepera</td>\n",
       "      <td>Anas platyrhynchos</td>\n",
       "      <td>Anas crecca</td>\n",
       "    </tr>\n",
       "    <tr>\n",
       "      <th>Date</th>\n",
       "      <td>05-Jun-83</td>\n",
       "      <td>18-Apr-90</td>\n",
       "      <td>18-Apr-90</td>\n",
       "      <td>18-Apr-90</td>\n",
       "      <td>18-Apr-90</td>\n",
       "    </tr>\n",
       "    <tr>\n",
       "      <th>Number</th>\n",
       "      <td>1</td>\n",
       "      <td>1</td>\n",
       "      <td>0</td>\n",
       "      <td>4</td>\n",
       "      <td>10</td>\n",
       "    </tr>\n",
       "    <tr>\n",
       "      <th>Male</th>\n",
       "      <td>True</td>\n",
       "      <td>False</td>\n",
       "      <td>False</td>\n",
       "      <td>False</td>\n",
       "      <td>True</td>\n",
       "    </tr>\n",
       "    <tr>\n",
       "      <th>Female</th>\n",
       "      <td>False</td>\n",
       "      <td>False</td>\n",
       "      <td>False</td>\n",
       "      <td>False</td>\n",
       "      <td>True</td>\n",
       "    </tr>\n",
       "    <tr>\n",
       "      <th>Pair</th>\n",
       "      <td>False</td>\n",
       "      <td>False</td>\n",
       "      <td>False</td>\n",
       "      <td>True</td>\n",
       "      <td>False</td>\n",
       "    </tr>\n",
       "    <tr>\n",
       "      <th>Adult</th>\n",
       "      <td>False</td>\n",
       "      <td>True</td>\n",
       "      <td>True</td>\n",
       "      <td>True</td>\n",
       "      <td>True</td>\n",
       "    </tr>\n",
       "    <tr>\n",
       "      <th>Immature</th>\n",
       "      <td>False</td>\n",
       "      <td>False</td>\n",
       "      <td>False</td>\n",
       "      <td>True</td>\n",
       "      <td>False</td>\n",
       "    </tr>\n",
       "    <tr>\n",
       "      <th>Nesting Codes</th>\n",
       "      <td>S</td>\n",
       "      <td>NaN</td>\n",
       "      <td>NaN</td>\n",
       "      <td>NaN</td>\n",
       "      <td>NaN</td>\n",
       "    </tr>\n",
       "    <tr>\n",
       "      <th>Heard Only</th>\n",
       "      <td>False</td>\n",
       "      <td>False</td>\n",
       "      <td>False</td>\n",
       "      <td>False</td>\n",
       "      <td>False</td>\n",
       "    </tr>\n",
       "    <tr>\n",
       "      <th>Uncertain ID</th>\n",
       "      <td>False</td>\n",
       "      <td>False</td>\n",
       "      <td>False</td>\n",
       "      <td>False</td>\n",
       "      <td>False</td>\n",
       "    </tr>\n",
       "    <tr>\n",
       "      <th>Uncountable</th>\n",
       "      <td>False</td>\n",
       "      <td>False</td>\n",
       "      <td>False</td>\n",
       "      <td>False</td>\n",
       "      <td>False</td>\n",
       "    </tr>\n",
       "    <tr>\n",
       "      <th>Hybrid</th>\n",
       "      <td>False</td>\n",
       "      <td>False</td>\n",
       "      <td>False</td>\n",
       "      <td>False</td>\n",
       "      <td>False</td>\n",
       "    </tr>\n",
       "    <tr>\n",
       "      <th>Notes</th>\n",
       "      <td>R. Thorne per American Birds per E. Hunn sprea...</td>\n",
       "      <td>NaN</td>\n",
       "      <td>NaN</td>\n",
       "      <td>with ducklings</td>\n",
       "      <td>NaN</td>\n",
       "    </tr>\n",
       "  </tbody>\n",
       "</table>\n",
       "</div>"
      ],
      "text/plain": [
       "                                                                 0  \\\n",
       "Sort Order                                                    1307   \n",
       "Species ID                                                    LEFL   \n",
       "Common Name                                       Least Flycatcher   \n",
       "Scientific Name                                  Empidonax minimus   \n",
       "Date                                                     05-Jun-83   \n",
       "Number                                                           1   \n",
       "Male                                                          True   \n",
       "Female                                                       False   \n",
       "Pair                                                         False   \n",
       "Adult                                                        False   \n",
       "Immature                                                     False   \n",
       "Nesting Codes                                                    S   \n",
       "Heard Only                                                   False   \n",
       "Uncertain ID                                                 False   \n",
       "Uncountable                                                  False   \n",
       "Hybrid                                                       False   \n",
       "Notes            R. Thorne per American Birds per E. Hunn sprea...   \n",
       "\n",
       "                                 1                2                   3  \\\n",
       "Sort Order                      23               41                  48   \n",
       "Species ID                    CANG             GADW                MALL   \n",
       "Common Name           Canada Goose          Gadwall             Mallard   \n",
       "Scientific Name  Branta canadensis  Mareca strepera  Anas platyrhynchos   \n",
       "Date                     18-Apr-90        18-Apr-90           18-Apr-90   \n",
       "Number                           1                0                   4   \n",
       "Male                         False            False               False   \n",
       "Female                       False            False               False   \n",
       "Pair                         False            False                True   \n",
       "Adult                         True             True                True   \n",
       "Immature                     False            False                True   \n",
       "Nesting Codes                  NaN              NaN                 NaN   \n",
       "Heard Only                   False            False               False   \n",
       "Uncertain ID                 False            False               False   \n",
       "Uncountable                  False            False               False   \n",
       "Hybrid                       False            False               False   \n",
       "Notes                          NaN              NaN      with ducklings   \n",
       "\n",
       "                                 4  \n",
       "Sort Order                      53  \n",
       "Species ID                    GWTE  \n",
       "Common Name      Green-winged Teal  \n",
       "Scientific Name        Anas crecca  \n",
       "Date                     18-Apr-90  \n",
       "Number                          10  \n",
       "Male                          True  \n",
       "Female                        True  \n",
       "Pair                         False  \n",
       "Adult                         True  \n",
       "Immature                     False  \n",
       "Nesting Codes                  NaN  \n",
       "Heard Only                   False  \n",
       "Uncertain ID                 False  \n",
       "Uncountable                  False  \n",
       "Hybrid                       False  \n",
       "Notes                          NaN  "
      ]
     },
     "execution_count": 3,
     "metadata": {},
     "output_type": "execute_result"
    }
   ],
   "source": [
    "df.head().T"
   ]
  },
  {
   "cell_type": "code",
   "execution_count": 4,
   "metadata": {},
   "outputs": [
    {
     "data": {
      "text/plain": [
       "(80085, 17)"
      ]
     },
     "execution_count": 4,
     "metadata": {},
     "output_type": "execute_result"
    }
   ],
   "source": [
    "df.shape"
   ]
  },
  {
   "cell_type": "code",
   "execution_count": 5,
   "metadata": {},
   "outputs": [
    {
     "name": "stdout",
     "output_type": "stream",
     "text": [
      "<class 'pandas.core.frame.DataFrame'>\n",
      "RangeIndex: 80085 entries, 0 to 80084\n",
      "Data columns (total 17 columns):\n",
      "Sort Order         80085 non-null float64\n",
      "Species ID         80085 non-null object\n",
      "Common Name        80085 non-null object\n",
      "Scientific Name    80085 non-null object\n",
      "Date               80085 non-null object\n",
      "Number             80041 non-null float64\n",
      "Male               80085 non-null bool\n",
      "Female             80085 non-null bool\n",
      "Pair               80085 non-null bool\n",
      "Adult              80085 non-null bool\n",
      "Immature           80085 non-null bool\n",
      "Nesting Codes      10308 non-null object\n",
      "Heard Only         80085 non-null bool\n",
      "Uncertain ID       80085 non-null bool\n",
      "Uncountable        80085 non-null bool\n",
      "Hybrid             80085 non-null bool\n",
      "Notes              14255 non-null object\n",
      "dtypes: bool(9), float64(2), object(6)\n",
      "memory usage: 5.6+ MB\n"
     ]
    }
   ],
   "source": [
    "df.info()"
   ]
  },
  {
   "cell_type": "code",
   "execution_count": 6,
   "metadata": {},
   "outputs": [
    {
     "data": {
      "text/plain": [
       "False    78996\n",
       "True      1089\n",
       "Name: Uncertain ID, dtype: int64"
      ]
     },
     "execution_count": 6,
     "metadata": {},
     "output_type": "execute_result"
    }
   ],
   "source": [
    "df['Uncertain ID'].value_counts()"
   ]
  },
  {
   "cell_type": "markdown",
   "metadata": {},
   "source": [
    "Good to keep in mind, 1089 of the entries have uncertain IDs. Will keep in for now. Need to convert Date from object to timestamp."
   ]
  },
  {
   "cell_type": "code",
   "execution_count": 7,
   "metadata": {},
   "outputs": [],
   "source": [
    "df['Date'] = pd.to_datetime(df['Date'])"
   ]
  },
  {
   "cell_type": "code",
   "execution_count": 8,
   "metadata": {},
   "outputs": [],
   "source": [
    "df['Year'] = df['Date'].dt.year"
   ]
  },
  {
   "cell_type": "code",
   "execution_count": 9,
   "metadata": {},
   "outputs": [],
   "source": [
    "df['Week'] = df['Date'].dt.week"
   ]
  },
  {
   "cell_type": "code",
   "execution_count": 10,
   "metadata": {},
   "outputs": [
    {
     "data": {
      "text/plain": [
       "(22, Timestamp('1983-06-05 00:00:00'))"
      ]
     },
     "execution_count": 10,
     "metadata": {},
     "output_type": "execute_result"
    }
   ],
   "source": [
    "df['Week'][0], df['Date'][0]"
   ]
  },
  {
   "cell_type": "markdown",
   "metadata": {},
   "source": [
    "Next I want to check all species and limit to just birds. Can't think of a better way than to go through list of unique common names visually."
   ]
  },
  {
   "cell_type": "code",
   "execution_count": 11,
   "metadata": {},
   "outputs": [
    {
     "data": {
      "text/plain": [
       "array(['Least Flycatcher', 'Canada Goose', 'Gadwall', 'Mallard',\n",
       "       'Green-winged Teal', 'Common Merganser', 'Rock Pigeon',\n",
       "       'American Coot', 'Killdeer', 'Western Sandpiper',\n",
       "       'Great Blue Heron', 'Red-tailed Hawk', 'American Crow',\n",
       "       'Violet-green Swallow', 'Northern Rough-winged Swallow',\n",
       "       'Barn Swallow', 'Chestnut-backed Chickadee', 'Bushtit',\n",
       "       'Marsh Wren', 'American Robin', 'European Starling',\n",
       "       'American Goldfinch', 'Savannah Sparrow', 'Song Sparrow',\n",
       "       'Red-winged Blackbird', 'Common Yellowthroat', 'Cinnamon Teal',\n",
       "       'Mourning Dove', 'Glaucous-winged Gull', 'Northern Harrier',\n",
       "       'Belted Kingfisher', 'House Wren', 'Black-capped Chickadee',\n",
       "       'Western Meadowlark', 'Pied-billed Grebe', 'American Kestrel',\n",
       "       'Spotted Towhee', 'White-crowned Sparrow',\n",
       "       'Golden-crowned Sparrow', 'Yellow-rumped Warbler',\n",
       "       \"Wilson's Warbler\", 'Black-headed Grosbeak', 'California Quail',\n",
       "       'Bald Eagle', \"Swainson's Thrush\", 'House Sparrow',\n",
       "       'Band-tailed Pigeon', 'American Bittern', 'Willow Flycatcher',\n",
       "       'Tree Swallow', 'Downy Woodpecker', 'House Finch', 'Canvasback',\n",
       "       'Ring-necked Duck', 'Bufflehead', 'Common Goldeneye',\n",
       "       'Hooded Merganser', 'Ruddy Duck', 'Double-crested Cormorant',\n",
       "       \"Bewick's Wren\", 'Golden-crowned Kinglet', 'Ruby-crowned Kinglet',\n",
       "       'Dark-eyed Junco', 'Northern Flicker', 'Wood Duck', 'Mew Gull',\n",
       "       'Cliff Swallow', 'Black Swift', 'Blue-winged Teal', 'Green Heron',\n",
       "       'Brown-headed Cowbird', 'Ring-necked Pheasant', 'Lesser Scaup',\n",
       "       'Fox Sparrow', 'Pine Siskin', 'Northern Shoveler',\n",
       "       'Rufous Hummingbird', \"Wilson's Snipe\", 'Orange-crowned Warbler',\n",
       "       'Cedar Waxwing', \"Townsend's Warbler\", 'Ring-Billed Gull',\n",
       "       'Common Loon', 'Virginia Rail', \"Steller's Jay\",\n",
       "       'Mountain Bluebird', 'Hermit Thrush', 'White-throated Sparrow',\n",
       "       'Yellow Warbler', 'Western Tanager', \"Cooper's Hawk\",\n",
       "       'Western Kingbird', 'Hairy Woodpecker', 'Warbling Vireo',\n",
       "       'Red-eyed Vireo', 'Spotted Sandpiper', \"Vaux's Swift\",\n",
       "       'Caspian Tern', 'Solitary Sandpiper', 'Pacific-slope Flycatcher',\n",
       "       \"Lincoln's Sparrow\", 'Black-throated Gray Warbler', 'Horned Grebe',\n",
       "       'Purple Finch', 'American Wigeon', 'Sharp-shinned Hawk',\n",
       "       'Pileated Woodpecker', 'Varied Thrush', 'Western Grebe',\n",
       "       'Northern Shrike', 'Snow Goose', 'Cattle Egret', 'Merlin',\n",
       "       'Pacific Wren', 'Brown Creeper', 'Northern Pintail',\n",
       "       'Loggerhead Shrike', \"Barrow's Goldeneye\", 'Least Sandpiper',\n",
       "       'Osprey', 'Redhead', 'Western Wood-Pewee', 'Lazuli Bunting',\n",
       "       'Red-breasted Nuthatch', 'California Gull', \"Brewer's Blackbird\",\n",
       "       'Nashville Warbler', 'Trumpeter Swan', 'Short-eared Owl',\n",
       "       'Greater Scaup', 'Peregrine Falcon', \"Cassin's Vireo\",\n",
       "       \"Bullock's Oriole\", \"Bonaparte's Gull\", 'Lesser Yellowlegs',\n",
       "       'Common Redpoll', 'Iceland Gull', 'Red-breasted Sapsucker',\n",
       "       \"MacGillivray's Warbler\", 'American Pipit', 'Barn Owl',\n",
       "       \"Townsend's Solitaire\", 'Eastern Gray Squirrel',\n",
       "       'Red-necked Grebe', 'Roof Rat', 'Raccoon', 'Eastern Kingbird',\n",
       "       'Muskrat', 'Olive-sided Flycatcher', 'Long-tailed Weasel',\n",
       "       'Norrthwestern Garter Snake', 'Bullfrog', 'Red-eared Slider',\n",
       "       'Dusky Flycatcher', 'Greater White-fronted Goose', 'Coyote',\n",
       "       'Cackling Goose', 'American Beaver', 'Western Toad', 'River Otter',\n",
       "       'Long-eared Owl', \"Say's Phoebe\", 'Painted Turtle',\n",
       "       'Vesper Sparrow', 'Blue-gray Gnatcatcher', 'Ruffed Grouse',\n",
       "       'Dunlin', 'Virginia Opossum', 'Northern Goshawk', 'Surf Scoter',\n",
       "       \"Brewer's Sparrow\", 'Turkey Vulture', 'Whimbrel',\n",
       "       'Greater Yellowlegs', 'Evening Grosbeak', 'Great Horned Owl',\n",
       "       'Pacific Treefrog', 'Mule Deer', 'Western Bluebird',\n",
       "       'Eastern Cottontail', 'Swamp Sparrow', 'Horned Lark', 'Sora',\n",
       "       'Sage Thrasher', 'Western Gull', 'Chipping Sparrow',\n",
       "       \"Franklin's Gull\", 'Semipalmated Sandpiper',\n",
       "       'Yellow-bellied Sapsucker', 'American Redstart',\n",
       "       'White-tailed Deer', 'Snow Bunting', \"Townsend's Mole\",\n",
       "       \"Hutton's Vireo\", 'Northern Flying Squirrel', 'Purple Martin',\n",
       "       \"Townsend's Chipmonk\", 'Black-tailed Jackrabbit', 'Mink',\n",
       "       'American Tree Sparrow', \"Anna's Hummingbird\", 'Common Raven',\n",
       "       'Long-tailed Vole', 'Yellow-headed Blackbird', 'Common Tern',\n",
       "       'Black Tern', 'Lapland Longspur', 'Common Nighthawk',\n",
       "       'Herring Gull', 'Mountain Chickadee', 'Great Egret',\n",
       "       'Red Crossbill', 'Ash-throated Flycatcher',\n",
       "       'Buff-breasted Sandpiper', 'Pectoral Sandpiper',\n",
       "       'Clay-colored Sparrow', 'Rough-legged Hawk', 'Western Screech-Owl',\n",
       "       'Mandarin Duck', 'Baltimore Oriole', 'African Collared-Dove',\n",
       "       \"Smith's Longspur\", 'Yellow-breasted Chat', 'Northern Mockingbird',\n",
       "       'Eurasian Wigeon', 'Glaucous Gull', 'Sagebrush Sparrow',\n",
       "       \"Swainson's Hawk\", \"Baird's Sandpiper\", 'Tropical Kingbird',\n",
       "       'Island Canary', 'Tundra Swan', 'Burrowing Owl',\n",
       "       'Eurasian Collared-Dove', 'Red-naped Sapsucker', 'Golden Eagle',\n",
       "       \"Hammond's Flycatcher\", 'Brown Pelican', 'Barred Owl',\n",
       "       'Long-billed Dowitcher', 'Mountain Beaver', \"Lewis's Woodpecker\",\n",
       "       'Parasitic Jaeger', 'Brant', \"Townsend's Vole\", 'Shrew-mole',\n",
       "       'Northern Saw-whet Owl', 'Red-breasted Merganser',\n",
       "       'Crested Caracara', 'Bank Swallow', 'Vagrant Shrew',\n",
       "       'Big Brown Bat', 'California Scrub-Jay', 'Douglas Squirrel',\n",
       "       'Pacific Loon', 'Bohemian Waxwing', 'Sandhill Crane',\n",
       "       'North American Deermouse', 'Common Poorwill', 'Bobcat',\n",
       "       'Lark Sparrow', 'American Dipper', 'Snowy Owl', 'Red Junglefowl',\n",
       "       'Long-tailed Jaeger', 'Long-toed Salamander', 'Budgerigar',\n",
       "       'Coypu', 'Semipalmated Plover', 'Lesser Goldfinch',\n",
       "       'Northern Waterthrush', 'Gray Catbird', 'Gray-crowned Rosy-Finch',\n",
       "       'Gray Flycatcher', 'Black Bear', 'Northwestern Salamander',\n",
       "       'Little Brown Myotis', 'Rock Wren', 'American White Pelican',\n",
       "       'Water Vole', 'Scissor-tailed Flycatcher', 'Red-shouldered Hawk',\n",
       "       'Red-throated Loon', 'Northern Leopard Frog', 'Long-Billed Curlew',\n",
       "       'Red-necked Phalarope', 'Palm Warbler'], dtype=object)"
      ]
     },
     "execution_count": 11,
     "metadata": {},
     "output_type": "execute_result"
    }
   ],
   "source": [
    "df['Common Name'].unique()"
   ]
  },
  {
   "cell_type": "code",
   "execution_count": 12,
   "metadata": {},
   "outputs": [],
   "source": [
    "non_bird = [\"Eastern Gray Squirrel\", \"Roof Rat\", \"Raccoon\", \"Muskrat\", \"Long-tailed Weasel\", \"Northwestern Garter Snake\", \"Bullfrog\", \"Red-eared Slider\",\n",
    "           \"Coyote\", \"American Beaver\", \"Western Toad\", \"River Otter\", \"Painted Turtle\", \"Virginia Opossum\", \"Pacific Tree Frog\", \"Mule Deer\", \n",
    "           \"Big Brown Bat\", \"Douglas Squirrel\", \"North American Deer Mouse\", \"Bobcat\", \"Eastern Cottontail\", \"White-tailed Deer\", \"Townsend's Mole\",\n",
    "           \"Northern Flying Squirrel\", \"Townsend's Chipmonk\", \"Black-tailed Jack Rabbit\", \"Mink\", \"Long-tailed Vole\", \"Mountain Beaver\",\n",
    "           \"Long-toed Salamander\", \"Coypu\", \"Black Bear\", \"Northwestern Salamander\", \"Little Brown Myotis\", \"Water Vole\", \"Northern Leopard Frog\"]"
   ]
  },
  {
   "cell_type": "markdown",
   "metadata": {},
   "source": [
    "Fix typo in Townsend's Chipmunk."
   ]
  },
  {
   "cell_type": "code",
   "execution_count": 13,
   "metadata": {},
   "outputs": [
    {
     "data": {
      "text/html": [
       "<div>\n",
       "<style scoped>\n",
       "    .dataframe tbody tr th:only-of-type {\n",
       "        vertical-align: middle;\n",
       "    }\n",
       "\n",
       "    .dataframe tbody tr th {\n",
       "        vertical-align: top;\n",
       "    }\n",
       "\n",
       "    .dataframe thead th {\n",
       "        text-align: right;\n",
       "    }\n",
       "</style>\n",
       "<table border=\"1\" class=\"dataframe\">\n",
       "  <thead>\n",
       "    <tr style=\"text-align: right;\">\n",
       "      <th></th>\n",
       "      <th>Sort Order</th>\n",
       "      <th>Species ID</th>\n",
       "      <th>Common Name</th>\n",
       "      <th>Scientific Name</th>\n",
       "      <th>Date</th>\n",
       "      <th>Number</th>\n",
       "      <th>Male</th>\n",
       "      <th>Female</th>\n",
       "      <th>Pair</th>\n",
       "      <th>Adult</th>\n",
       "      <th>Immature</th>\n",
       "      <th>Nesting Codes</th>\n",
       "      <th>Heard Only</th>\n",
       "      <th>Uncertain ID</th>\n",
       "      <th>Uncountable</th>\n",
       "      <th>Hybrid</th>\n",
       "      <th>Notes</th>\n",
       "      <th>Year</th>\n",
       "      <th>Week</th>\n",
       "    </tr>\n",
       "  </thead>\n",
       "  <tbody>\n",
       "    <tr>\n",
       "      <th>21658</th>\n",
       "      <td>10022.0</td>\n",
       "      <td>TOCH</td>\n",
       "      <td>Townsend's Chipmunk</td>\n",
       "      <td>Tamias townsendii</td>\n",
       "      <td>2003-06-02</td>\n",
       "      <td>1.0</td>\n",
       "      <td>False</td>\n",
       "      <td>False</td>\n",
       "      <td>False</td>\n",
       "      <td>False</td>\n",
       "      <td>False</td>\n",
       "      <td>NaN</td>\n",
       "      <td>False</td>\n",
       "      <td>False</td>\n",
       "      <td>False</td>\n",
       "      <td>False</td>\n",
       "      <td>In the ivy area just south of the first footbr...</td>\n",
       "      <td>2003</td>\n",
       "      <td>23</td>\n",
       "    </tr>\n",
       "  </tbody>\n",
       "</table>\n",
       "</div>"
      ],
      "text/plain": [
       "       Sort Order Species ID          Common Name    Scientific Name  \\\n",
       "21658     10022.0       TOCH  Townsend's Chipmunk  Tamias townsendii   \n",
       "\n",
       "            Date  Number   Male  Female   Pair  Adult  Immature Nesting Codes  \\\n",
       "21658 2003-06-02     1.0  False   False  False  False     False           NaN   \n",
       "\n",
       "       Heard Only  Uncertain ID  Uncountable  Hybrid  \\\n",
       "21658       False         False        False   False   \n",
       "\n",
       "                                                   Notes  Year  Week  \n",
       "21658  In the ivy area just south of the first footbr...  2003    23  "
      ]
     },
     "execution_count": 13,
     "metadata": {},
     "output_type": "execute_result"
    }
   ],
   "source": [
    "df['Common Name'].replace( \"Townsend's Chipmonk\", \"Townsend's Chipmunk\", inplace=True)\n",
    "df.loc[df['Common Name'] == \"Townsend's Chipmunk\"]"
   ]
  },
  {
   "cell_type": "code",
   "execution_count": 14,
   "metadata": {},
   "outputs": [],
   "source": [
    "bird = []\n",
    "for val in df[\"Common Name\"].unique():\n",
    "    if val not in non_bird:\n",
    "        bird.append(val)"
   ]
  },
  {
   "cell_type": "code",
   "execution_count": 15,
   "metadata": {},
   "outputs": [
    {
     "data": {
      "text/plain": [
       "['Least Flycatcher', 'Canada Goose', 'Gadwall', 'Mallard', 'Green-winged Teal']"
      ]
     },
     "execution_count": 15,
     "metadata": {},
     "output_type": "execute_result"
    }
   ],
   "source": [
    "bird[:5]"
   ]
  },
  {
   "cell_type": "markdown",
   "metadata": {},
   "source": [
    "It works! Now I make a dataframe of just birds, and since I'm only interested in time and name identifiers (and might want to drop uncertain IDs), limit it to the following columns: species ID, common name, scientific name, date, number, year, week in year, uncountable, and uncertain IDs."
   ]
  },
  {
   "cell_type": "code",
   "execution_count": 16,
   "metadata": {},
   "outputs": [
    {
     "data": {
      "text/html": [
       "<div>\n",
       "<style scoped>\n",
       "    .dataframe tbody tr th:only-of-type {\n",
       "        vertical-align: middle;\n",
       "    }\n",
       "\n",
       "    .dataframe tbody tr th {\n",
       "        vertical-align: top;\n",
       "    }\n",
       "\n",
       "    .dataframe thead th {\n",
       "        text-align: right;\n",
       "    }\n",
       "</style>\n",
       "<table border=\"1\" class=\"dataframe\">\n",
       "  <thead>\n",
       "    <tr style=\"text-align: right;\">\n",
       "      <th></th>\n",
       "      <th>Common Name</th>\n",
       "      <th>Scientific Name</th>\n",
       "      <th>Date</th>\n",
       "      <th>Number</th>\n",
       "      <th>Uncertain ID</th>\n",
       "      <th>Uncountable</th>\n",
       "      <th>Year</th>\n",
       "      <th>Week</th>\n",
       "    </tr>\n",
       "  </thead>\n",
       "  <tbody>\n",
       "    <tr>\n",
       "      <th>0</th>\n",
       "      <td>Least Flycatcher</td>\n",
       "      <td>Empidonax minimus</td>\n",
       "      <td>1983-06-05</td>\n",
       "      <td>1.0</td>\n",
       "      <td>False</td>\n",
       "      <td>False</td>\n",
       "      <td>1983</td>\n",
       "      <td>22</td>\n",
       "    </tr>\n",
       "    <tr>\n",
       "      <th>1</th>\n",
       "      <td>Canada Goose</td>\n",
       "      <td>Branta canadensis</td>\n",
       "      <td>1990-04-18</td>\n",
       "      <td>1.0</td>\n",
       "      <td>False</td>\n",
       "      <td>False</td>\n",
       "      <td>1990</td>\n",
       "      <td>16</td>\n",
       "    </tr>\n",
       "    <tr>\n",
       "      <th>2</th>\n",
       "      <td>Gadwall</td>\n",
       "      <td>Mareca strepera</td>\n",
       "      <td>1990-04-18</td>\n",
       "      <td>0.0</td>\n",
       "      <td>False</td>\n",
       "      <td>False</td>\n",
       "      <td>1990</td>\n",
       "      <td>16</td>\n",
       "    </tr>\n",
       "    <tr>\n",
       "      <th>3</th>\n",
       "      <td>Mallard</td>\n",
       "      <td>Anas platyrhynchos</td>\n",
       "      <td>1990-04-18</td>\n",
       "      <td>4.0</td>\n",
       "      <td>False</td>\n",
       "      <td>False</td>\n",
       "      <td>1990</td>\n",
       "      <td>16</td>\n",
       "    </tr>\n",
       "    <tr>\n",
       "      <th>4</th>\n",
       "      <td>Green-winged Teal</td>\n",
       "      <td>Anas crecca</td>\n",
       "      <td>1990-04-18</td>\n",
       "      <td>10.0</td>\n",
       "      <td>False</td>\n",
       "      <td>False</td>\n",
       "      <td>1990</td>\n",
       "      <td>16</td>\n",
       "    </tr>\n",
       "  </tbody>\n",
       "</table>\n",
       "</div>"
      ],
      "text/plain": [
       "         Common Name     Scientific Name       Date  Number  Uncertain ID  \\\n",
       "0   Least Flycatcher   Empidonax minimus 1983-06-05     1.0         False   \n",
       "1       Canada Goose   Branta canadensis 1990-04-18     1.0         False   \n",
       "2            Gadwall     Mareca strepera 1990-04-18     0.0         False   \n",
       "3            Mallard  Anas platyrhynchos 1990-04-18     4.0         False   \n",
       "4  Green-winged Teal         Anas crecca 1990-04-18    10.0         False   \n",
       "\n",
       "   Uncountable  Year  Week  \n",
       "0        False  1983    22  \n",
       "1        False  1990    16  \n",
       "2        False  1990    16  \n",
       "3        False  1990    16  \n",
       "4        False  1990    16  "
      ]
     },
     "execution_count": 16,
     "metadata": {},
     "output_type": "execute_result"
    }
   ],
   "source": [
    "birds_df = df[df['Common Name'].isin(bird)]\n",
    "columns_keep = ['Common Name', 'Scientific Name', 'Date', 'Number', 'Uncertain ID', 'Uncountable', 'Year', 'Week']\n",
    "bt_df = birds_df[columns_keep].copy()\n",
    "bt_df.head()"
   ]
  },
  {
   "cell_type": "code",
   "execution_count": 17,
   "metadata": {},
   "outputs": [
    {
     "data": {
      "text/html": [
       "<div>\n",
       "<style scoped>\n",
       "    .dataframe tbody tr th:only-of-type {\n",
       "        vertical-align: middle;\n",
       "    }\n",
       "\n",
       "    .dataframe tbody tr th {\n",
       "        vertical-align: top;\n",
       "    }\n",
       "\n",
       "    .dataframe thead th {\n",
       "        text-align: right;\n",
       "    }\n",
       "</style>\n",
       "<table border=\"1\" class=\"dataframe\">\n",
       "  <thead>\n",
       "    <tr style=\"text-align: right;\">\n",
       "      <th></th>\n",
       "      <th>Common Name</th>\n",
       "      <th>Scientific Name</th>\n",
       "      <th>Number</th>\n",
       "      <th>Uncertain ID</th>\n",
       "      <th>Uncountable</th>\n",
       "      <th>Year</th>\n",
       "      <th>Week</th>\n",
       "    </tr>\n",
       "    <tr>\n",
       "      <th>Date</th>\n",
       "      <th></th>\n",
       "      <th></th>\n",
       "      <th></th>\n",
       "      <th></th>\n",
       "      <th></th>\n",
       "      <th></th>\n",
       "      <th></th>\n",
       "    </tr>\n",
       "  </thead>\n",
       "  <tbody>\n",
       "    <tr>\n",
       "      <th>1983-06-05</th>\n",
       "      <td>Least Flycatcher</td>\n",
       "      <td>Empidonax minimus</td>\n",
       "      <td>1.0</td>\n",
       "      <td>False</td>\n",
       "      <td>False</td>\n",
       "      <td>1983</td>\n",
       "      <td>22</td>\n",
       "    </tr>\n",
       "    <tr>\n",
       "      <th>1990-04-18</th>\n",
       "      <td>Canada Goose</td>\n",
       "      <td>Branta canadensis</td>\n",
       "      <td>1.0</td>\n",
       "      <td>False</td>\n",
       "      <td>False</td>\n",
       "      <td>1990</td>\n",
       "      <td>16</td>\n",
       "    </tr>\n",
       "    <tr>\n",
       "      <th>1990-04-18</th>\n",
       "      <td>Gadwall</td>\n",
       "      <td>Mareca strepera</td>\n",
       "      <td>0.0</td>\n",
       "      <td>False</td>\n",
       "      <td>False</td>\n",
       "      <td>1990</td>\n",
       "      <td>16</td>\n",
       "    </tr>\n",
       "    <tr>\n",
       "      <th>1990-04-18</th>\n",
       "      <td>Mallard</td>\n",
       "      <td>Anas platyrhynchos</td>\n",
       "      <td>4.0</td>\n",
       "      <td>False</td>\n",
       "      <td>False</td>\n",
       "      <td>1990</td>\n",
       "      <td>16</td>\n",
       "    </tr>\n",
       "    <tr>\n",
       "      <th>1990-04-18</th>\n",
       "      <td>Green-winged Teal</td>\n",
       "      <td>Anas crecca</td>\n",
       "      <td>10.0</td>\n",
       "      <td>False</td>\n",
       "      <td>False</td>\n",
       "      <td>1990</td>\n",
       "      <td>16</td>\n",
       "    </tr>\n",
       "  </tbody>\n",
       "</table>\n",
       "</div>"
      ],
      "text/plain": [
       "                  Common Name     Scientific Name  Number  Uncertain ID  \\\n",
       "Date                                                                      \n",
       "1983-06-05   Least Flycatcher   Empidonax minimus     1.0         False   \n",
       "1990-04-18       Canada Goose   Branta canadensis     1.0         False   \n",
       "1990-04-18            Gadwall     Mareca strepera     0.0         False   \n",
       "1990-04-18            Mallard  Anas platyrhynchos     4.0         False   \n",
       "1990-04-18  Green-winged Teal         Anas crecca    10.0         False   \n",
       "\n",
       "            Uncountable  Year  Week  \n",
       "Date                                 \n",
       "1983-06-05        False  1983    22  \n",
       "1990-04-18        False  1990    16  \n",
       "1990-04-18        False  1990    16  \n",
       "1990-04-18        False  1990    16  \n",
       "1990-04-18        False  1990    16  "
      ]
     },
     "execution_count": 17,
     "metadata": {},
     "output_type": "execute_result"
    }
   ],
   "source": [
    "bt_df.set_index('Date', inplace=True)\n",
    "bt_df.head()"
   ]
  },
  {
   "cell_type": "code",
   "execution_count": 31,
   "metadata": {},
   "outputs": [],
   "source": [
    "dft = bt_df[['Common Name']].resample('W', base=1).nunique()"
   ]
  },
  {
   "cell_type": "code",
   "execution_count": 34,
   "metadata": {},
   "outputs": [],
   "source": [
    "dft['spec_count'] = dft.index.week"
   ]
  },
  {
   "cell_type": "code",
   "execution_count": 35,
   "metadata": {},
   "outputs": [
    {
     "data": {
      "text/html": [
       "<div>\n",
       "<style scoped>\n",
       "    .dataframe tbody tr th:only-of-type {\n",
       "        vertical-align: middle;\n",
       "    }\n",
       "\n",
       "    .dataframe tbody tr th {\n",
       "        vertical-align: top;\n",
       "    }\n",
       "\n",
       "    .dataframe thead th {\n",
       "        text-align: right;\n",
       "    }\n",
       "</style>\n",
       "<table border=\"1\" class=\"dataframe\">\n",
       "  <thead>\n",
       "    <tr style=\"text-align: right;\">\n",
       "      <th></th>\n",
       "      <th>Common Name</th>\n",
       "      <th>W</th>\n",
       "      <th>spec_count</th>\n",
       "    </tr>\n",
       "    <tr>\n",
       "      <th>Date</th>\n",
       "      <th></th>\n",
       "      <th></th>\n",
       "      <th></th>\n",
       "    </tr>\n",
       "  </thead>\n",
       "  <tbody>\n",
       "    <tr>\n",
       "      <th>1983-06-05</th>\n",
       "      <td>1</td>\n",
       "      <td>22</td>\n",
       "      <td>22</td>\n",
       "    </tr>\n",
       "    <tr>\n",
       "      <th>1983-06-12</th>\n",
       "      <td>0</td>\n",
       "      <td>23</td>\n",
       "      <td>23</td>\n",
       "    </tr>\n",
       "    <tr>\n",
       "      <th>1983-06-19</th>\n",
       "      <td>0</td>\n",
       "      <td>24</td>\n",
       "      <td>24</td>\n",
       "    </tr>\n",
       "    <tr>\n",
       "      <th>1983-06-26</th>\n",
       "      <td>0</td>\n",
       "      <td>25</td>\n",
       "      <td>25</td>\n",
       "    </tr>\n",
       "    <tr>\n",
       "      <th>1983-07-03</th>\n",
       "      <td>0</td>\n",
       "      <td>26</td>\n",
       "      <td>26</td>\n",
       "    </tr>\n",
       "  </tbody>\n",
       "</table>\n",
       "</div>"
      ],
      "text/plain": [
       "            Common Name   W  spec_count\n",
       "Date                                   \n",
       "1983-06-05            1  22          22\n",
       "1983-06-12            0  23          23\n",
       "1983-06-19            0  24          24\n",
       "1983-06-26            0  25          25\n",
       "1983-07-03            0  26          26"
      ]
     },
     "execution_count": 35,
     "metadata": {},
     "output_type": "execute_result"
    }
   ],
   "source": [
    "dft.head()"
   ]
  },
  {
   "cell_type": "code",
   "execution_count": 23,
   "metadata": {},
   "outputs": [],
   "source": [
    "df_spec_count = bt_df[['Common Name']].resample('W', base=1)"
   ]
  },
  {
   "cell_type": "code",
   "execution_count": 27,
   "metadata": {},
   "outputs": [
    {
     "data": {
      "text/plain": [
       "DatetimeIndexResampler [freq=<Week: weekday=6>, axis=0, closed=right, label=right, convention=start, base=1]"
      ]
     },
     "execution_count": 27,
     "metadata": {},
     "output_type": "execute_result"
    }
   ],
   "source": [
    "df_spec_count"
   ]
  },
  {
   "cell_type": "code",
   "execution_count": null,
   "metadata": {},
   "outputs": [],
   "source": [
    "print(bt_df.shape)\n",
    "print(bt_df.info())\n",
    "bt_df[\"Uncertain ID\"].value_counts()"
   ]
  },
  {
   "cell_type": "markdown",
   "metadata": {},
   "source": [
    "Investigate null numbers."
   ]
  },
  {
   "cell_type": "code",
   "execution_count": null,
   "metadata": {},
   "outputs": [],
   "source": [
    "bt_df_nulls = bt_df[bt_df.isna().any(axis=1)]\n",
    "bt_df_nulls"
   ]
  },
  {
   "cell_type": "markdown",
   "metadata": {},
   "source": [
    "Decide to export and ask data source about nulls. Will drop from dataset for now."
   ]
  },
  {
   "cell_type": "code",
   "execution_count": null,
   "metadata": {},
   "outputs": [],
   "source": [
    "bt_df_nulls.to_excel('null_counts.xlsx')"
   ]
  },
  {
   "cell_type": "code",
   "execution_count": null,
   "metadata": {},
   "outputs": [],
   "source": [
    "bt_df.dropna(inplace=True)"
   ]
  },
  {
   "cell_type": "code",
   "execution_count": null,
   "metadata": {},
   "outputs": [],
   "source": [
    "bt_df['Number'].isna().any()"
   ]
  },
  {
   "cell_type": "markdown",
   "metadata": {},
   "source": [
    "Next, add in columns for total species count per week (tspec_count_wk), species count per week (spec_count_wk), and presence/absence of species per week (pres_spec_wk). "
   ]
  },
  {
   "cell_type": "code",
   "execution_count": null,
   "metadata": {},
   "outputs": [],
   "source": [
    "cg_df = bt_df[bt_df['Common Name'] == 'Canada Goose']\n",
    "cg_df.head()"
   ]
  },
  {
   "cell_type": "code",
   "execution_count": null,
   "metadata": {},
   "outputs": [],
   "source": [
    "cg_df = cg_df.resample('W', ).sum()\n",
    "cg_df.head()"
   ]
  },
  {
   "cell_type": "code",
   "execution_count": null,
   "metadata": {},
   "outputs": [],
   "source": [
    "all_birds = pd.DataFrame()\n",
    "start = pd.DataFrame(data=[0], index=[pd.Timestamp('1983-06-04')])\n",
    "for bird in bt_df['Common Name'].unique()[:2]:\n",
    "    df = bt_df[bt_df['Common Name'] == bird].copy()\n",
    "    df = df.append(start)\n",
    "    df.resample('W').sum()\n",
    "    all_birds = all_birds.append(df)\n",
    "    \n",
    "all_birds.head()"
   ]
  },
  {
   "cell_type": "code",
   "execution_count": null,
   "metadata": {},
   "outputs": [],
   "source": [
    "wk_yr_spec_count = bt_df.groupby(['Year', 'Week'])['Common Name'].nunique().reset_index()"
   ]
  },
  {
   "cell_type": "code",
   "execution_count": null,
   "metadata": {},
   "outputs": [],
   "source": [
    "wk_yr_spec_count.head(10)"
   ]
  },
  {
   "cell_type": "code",
   "execution_count": null,
   "metadata": {},
   "outputs": [],
   "source": [
    "wk_yr_spec_count['Week'][0].astype(str) + wk_yr_spec_count['Year'][0].astype(str)"
   ]
  },
  {
   "cell_type": "code",
   "execution_count": null,
   "metadata": {},
   "outputs": [],
   "source": [
    "spec_count = bt_df.groupby(['Date', 'Year', 'Week', 'Common Name'])['Number'].sum().reset_index()\n",
    "spec_count.head()"
   ]
  },
  {
   "cell_type": "code",
   "execution_count": null,
   "metadata": {},
   "outputs": [],
   "source": [
    "bt_df.head()"
   ]
  },
  {
   "cell_type": "code",
   "execution_count": null,
   "metadata": {},
   "outputs": [],
   "source": [
    "bt_df.groupby(['Year', 'Week', 'Common Name'])['Number'].head()"
   ]
  },
  {
   "cell_type": "code",
   "execution_count": null,
   "metadata": {},
   "outputs": [],
   "source": []
  },
  {
   "cell_type": "markdown",
   "metadata": {},
   "source": [
    "frequency = number of obs (species) per unit time, week\n",
    "\n",
    "Line Graphs\n",
    "* seasonal plot, month, season, circular, 4 plots (subseries)\n",
    "* autocorrelation, lag plot\n",
    "* ACF plot peaks with seasonal or cyclic, no auto correlation are white noise, just random, autocorrelation equal to zero, 95% of acf spikes to be +- 2/sqrt(T) where T is length of time series, common to plot bounds on acf, 1 or more large spikes outside bout, or if more than 5% of spikes outside bounds, probably not white noise, tests if an individual lag autocorrelation is different than zero\n",
    "** trends make positive correlations in early lags, strong trends make recent obs closer together\n",
    "** seasonality make peak at seasonal lags, strongest correlation at values at same time of year\n",
    "** cyclicity makes peaks at average cycle length\n",
    "* Ljung-Box test, tests whether any of a group of autocorrelations of a time series are different from zero, overall randomness from a number of lags, if small p value, probably not white noise, \n",
    "* line graphs, time imposes additional structure on data, inherent order, in scatterplots, dots are placed evenly along axis with order, can connect with a line, and often omit dots, the denser a time series, less important are dots, can fill in area under line with solid color to emphasize trends, only valid if y-axis starts at zero, \n",
    "** can do multiple time series, label lines directly to limit cognitive load\n",
    "** time series of 2 or more response variables, separate line graphs or plot together in connected scatterplot (easier to confuse order and direction, less likely to report correlation, higher engagement)\n",
    "* smoothing for trends, LOESS curve or spline, careful, may have lots of different interpretations!\n",
    "* detrending to find deviations\n",
    "* beside simple detrending can..."
   ]
  },
  {
   "cell_type": "code",
   "execution_count": null,
   "metadata": {},
   "outputs": [],
   "source": []
  }
 ],
 "metadata": {
  "kernelspec": {
   "display_name": "learn-env",
   "language": "python",
   "name": "learn-env"
  },
  "language_info": {
   "codemirror_mode": {
    "name": "ipython",
    "version": 3
   },
   "file_extension": ".py",
   "mimetype": "text/x-python",
   "name": "python",
   "nbconvert_exporter": "python",
   "pygments_lexer": "ipython3",
   "version": "3.6.6"
  }
 },
 "nbformat": 4,
 "nbformat_minor": 2
}
